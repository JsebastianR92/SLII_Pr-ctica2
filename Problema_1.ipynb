{
 "cells": [
  {
   "cell_type": "markdown",
   "metadata": {},
   "source": [
    "### Sebastián Rodríguez\n",
    "### 20003076\n",
    "\n",
    "# Hoja de trabajo 3"
   ]
  },
  {
   "cell_type": "code",
   "execution_count": 2,
   "metadata": {},
   "outputs": [],
   "source": [
    "import re  "
   ]
  },
  {
   "cell_type": "markdown",
   "metadata": {},
   "source": [
    "# 1."
   ]
  },
  {
   "cell_type": "code",
   "execution_count": 24,
   "metadata": {},
   "outputs": [],
   "source": [
    "regex1 = '^[a-z0-9]+[\\._]?[a-z0-9]+[@]\\w+[.]\\w+$' \n",
    "\n",
    "def revisar(email):  \n",
    "    if(re.search(regex1,email)):  \n",
    "        print(\"Email Valido\")   \n",
    "    else:  \n",
    "        print(\"Email Invalido\")  \n",
    "      "
   ]
  },
  {
   "cell_type": "code",
   "execution_count": 25,
   "metadata": {},
   "outputs": [
    {
     "name": "stdout",
     "output_type": "stream",
     "text": [
      "Email Valido\n"
     ]
    }
   ],
   "source": [
    "email = \"sebas@gmail.com\"\n",
    "\n",
    "revisar(email)"
   ]
  },
  {
   "cell_type": "code",
   "execution_count": 26,
   "metadata": {},
   "outputs": [
    {
     "name": "stdout",
     "output_type": "stream",
     "text": [
      "Email Invalido\n"
     ]
    }
   ],
   "source": [
    "email2 = \"guate.360-porelmundo@miguate.com\"\n",
    "\n",
    "revisar(email2)"
   ]
  },
  {
   "cell_type": "code",
   "execution_count": 27,
   "metadata": {},
   "outputs": [
    {
     "name": "stdout",
     "output_type": "stream",
     "text": [
      "Email Invalido\n"
     ]
    }
   ],
   "source": [
    "email3 = \"Miercoles3@hotmail.com\"\n",
    "\n",
    "revisar(email3)"
   ]
  },
  {
   "cell_type": "markdown",
   "metadata": {},
   "source": [
    "# 2."
   ]
  },
  {
   "cell_type": "code",
   "execution_count": 30,
   "metadata": {},
   "outputs": [
    {
     "name": "stdout",
     "output_type": "stream",
     "text": [
      "True\n",
      "True\n",
      "True\n",
      "False\n"
     ]
    }
   ],
   "source": [
    "regex2 = re.compile(\n",
    "        r'^(?:http|ftp)s?://'\n",
    "        r'(?:(?:[A-Z0-9](?:[A-Z0-9-]{0,61}[A-Z0-9])?\\.)+(?:[A-Z]{2,6}\\.?|[A-Z0-9-]{2,}\\.?)|' #domain...\n",
    "        r'localhost|'\n",
    "        r'\\d{1,3}\\.\\d{1,3}\\.\\d{1,3}\\.\\d{1,3})'\n",
    "        r'(?::\\d+)?'\n",
    "        r'(?:/?|[/?]\\S+)$', re.IGNORECASE)\n",
    "\n",
    "print(re.match(regex2, \"https://www.guate360-porelmundo.com\") is not None) \n",
    "print(re.match(regex2, \"http://www.a2.net\") is not None) \n",
    "print(re.match(regex2, \"https://www.galileo.edu\") is not None) \n",
    "print(re.match(regex2, \"htp://www.8.org\") is not None)            "
   ]
  },
  {
   "cell_type": "markdown",
   "metadata": {},
   "source": [
    "# 3."
   ]
  },
  {
   "cell_type": "code",
   "execution_count": 54,
   "metadata": {},
   "outputs": [],
   "source": [
    "#if re.match(\"[0-9a-f]{2}([-:]?)[0-9a-f]{2}(\\\\1[0-9a-f]{2}){4}$\"\n",
    "\n",
    "def revisaMAC(x):\n",
    "    if re.match(\"[0-9a-f]{2}([-:])[0-9a-f]{2}(\\\\1[0-9a-f]{2}){4}$\", x.lower()):\n",
    "        return \"Valida\"\n",
    "    else:\n",
    "        return \"No Valida\""
   ]
  },
  {
   "cell_type": "code",
   "execution_count": 50,
   "metadata": {},
   "outputs": [
    {
     "data": {
      "text/plain": [
       "'Valida'"
      ]
     },
     "execution_count": 50,
     "metadata": {},
     "output_type": "execute_result"
    }
   ],
   "source": [
    "revisaMAC(\"5A 6F AF 8C 9B 1D\")"
   ]
  },
  {
   "cell_type": "code",
   "execution_count": 51,
   "metadata": {},
   "outputs": [
    {
     "data": {
      "text/plain": [
       "'Valida'"
      ]
     },
     "execution_count": 51,
     "metadata": {},
     "output_type": "execute_result"
    }
   ],
   "source": [
    "revisaMAC(\"6D 6C 4D 3A EB 3F\")"
   ]
  },
  {
   "cell_type": "code",
   "execution_count": 55,
   "metadata": {},
   "outputs": [
    {
     "data": {
      "text/plain": [
       "'No Valida'"
      ]
     },
     "execution_count": 55,
     "metadata": {},
     "output_type": "execute_result"
    }
   ],
   "source": [
    "revisaMAC(\"3A 7C FA C8 6D 4J\")"
   ]
  },
  {
   "cell_type": "markdown",
   "metadata": {},
   "source": [
    "# 4. "
   ]
  },
  {
   "cell_type": "code",
   "execution_count": 4,
   "metadata": {},
   "outputs": [],
   "source": [
    "regex4 = '''^(25[0-5]|2[0-4][0-9]|[0-1]?[0-9][0-9]?)\\.( 25[0-5]|2[0-4][0-9]|[0-1]?[0-9][0-9]?)\\.( 25[0-5]|2[0-4][0-9]|[0-1]?[0-9][0-9]?)\\.( 25[0-5]|2[0-4][0-9]|[0-1]?[0-9][0-9]?)$'''\n",
    "def RevisaIP(Ip):  \n",
    "    if(re.search(regex4, Ip)):  \n",
    "        print(\"Ip Válida\")  \n",
    "    else:  \n",
    "        print(\"IP Inválida\")"
   ]
  },
  {
   "cell_type": "code",
   "execution_count": 14,
   "metadata": {},
   "outputs": [],
   "source": [
    "Ip = \"192.16.8.1\"\n",
    "Ip2 = \"234.56.78.90\"\n",
    "Ip3 = \"1.2.3.4\"\n",
    "Ip4 = \"192.168.45.345\""
   ]
  },
  {
   "cell_type": "code",
   "execution_count": 15,
   "metadata": {},
   "outputs": [
    {
     "name": "stdout",
     "output_type": "stream",
     "text": [
      "Ip Válida\n",
      "Ip Válida\n",
      "Ip Válida\n",
      "IP Inválida\n"
     ]
    }
   ],
   "source": [
    "RevisaIP(Ip),\n",
    "RevisaIP(Ip2),\n",
    "RevisaIP(Ip3),\n",
    "RevisaIP(Ip4)"
   ]
  },
  {
   "cell_type": "markdown",
   "metadata": {},
   "source": [
    "# 5."
   ]
  },
  {
   "cell_type": "code",
   "execution_count": 44,
   "metadata": {},
   "outputs": [],
   "source": [
    "#regexd = '^(?:(1[0-2]|0[1-9])/(3[01]|[12][0-9]|0[1-9])|(3[01]|[12][0-9]|0[1-9])/(1[0-2]|0[1-9]))/[0-9]{4}$'\n",
    "regexd = '^(?:(1[0-2]|0?[1-9])/(3[01]|[12][0-9]|0?[1-9])|(3[01]|[12][0-9]|0?[1-9])/(1[0-2]|0?[1-9]))/(?:[0-9]{2})?[0-9]{2}$'\n",
    "\n",
    "def RevisaFecha(Fecha):  \n",
    "    if(re.search(regexd, Fecha)):  \n",
    "        print(\"Fecha Válida\")  \n",
    "    else:  \n",
    "        print(\"Fecha Inválida\")"
   ]
  },
  {
   "cell_type": "code",
   "execution_count": 45,
   "metadata": {},
   "outputs": [],
   "source": [
    "Fecha1 = \"20/1/2019\"\n",
    "Fecha2 = \"12.03.2005\"\n",
    "Fecha3 = \"31-11-08\"\n",
    "Fecha4 = \"1-1-2012\"\n",
    "Fecha5 = \"12-12-22\""
   ]
  },
  {
   "cell_type": "code",
   "execution_count": 46,
   "metadata": {},
   "outputs": [
    {
     "name": "stdout",
     "output_type": "stream",
     "text": [
      "Fecha Válida\n",
      "Fecha Inválida\n",
      "Fecha Inválida\n",
      "Fecha Inválida\n",
      "Fecha Inválida\n"
     ]
    }
   ],
   "source": [
    "RevisaFecha(Fecha1),\n",
    "RevisaFecha(Fecha2),\n",
    "RevisaFecha(Fecha3),\n",
    "RevisaFecha(Fecha4),\n",
    "RevisaFecha(Fecha5)"
   ]
  },
  {
   "cell_type": "code",
   "execution_count": null,
   "metadata": {},
   "outputs": [],
   "source": []
  }
 ],
 "metadata": {
  "kernelspec": {
   "display_name": "Python 3",
   "language": "python",
   "name": "python3"
  },
  "language_info": {
   "codemirror_mode": {
    "name": "ipython",
    "version": 3
   },
   "file_extension": ".py",
   "mimetype": "text/x-python",
   "name": "python",
   "nbconvert_exporter": "python",
   "pygments_lexer": "ipython3",
   "version": "3.7.4"
  }
 },
 "nbformat": 4,
 "nbformat_minor": 2
}
